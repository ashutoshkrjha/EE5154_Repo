{
 "cells": [
  {
   "cell_type": "code",
   "execution_count": 1,
   "metadata": {
    "collapsed": true
   },
   "outputs": [],
   "source": [
    "%matplotlib inline"
   ]
  },
  {
   "cell_type": "code",
   "execution_count": 2,
   "metadata": {
    "collapsed": false
   },
   "outputs": [],
   "source": [
    "#import Libraries\n",
    "from bs4 import BeautifulSoup\n",
    "import urllib.request\n",
    "import numpy as np\n",
    "import seaborn as sns\n",
    "import matplotlib.pyplot as plt"
   ]
  },
  {
   "cell_type": "code",
   "execution_count": 3,
   "metadata": {
    "collapsed": false
   },
   "outputs": [],
   "source": [
    "# Get the page contents\n",
    "url_val = \"http://publications.cse.iitm.ac.in/view/type/article.html\"\n",
    "\n",
    "page = urllib.request.urlopen(url_val).read()\n",
    "soup = BeautifulSoup(page, \"html.parser\")"
   ]
  },
  {
   "cell_type": "code",
   "execution_count": 4,
   "metadata": {
    "collapsed": false
   },
   "outputs": [],
   "source": [
    "# Split the contents of the file\n",
    "lines = []\n",
    "for l in soup.findAll('p'):\n",
    "    lines.append(l)"
   ]
  },
  {
   "cell_type": "code",
   "execution_count": 5,
   "metadata": {
    "collapsed": false
   },
   "outputs": [],
   "source": [
    "#Get all Co Author Info\n",
    "coauthors = []\n",
    "for l in soup.findAll('p'):\n",
    "    cur_paper_auth = []\n",
    "    for x in l.findAll('span'):\n",
    "        cur_paper_auth.append(x.get_text())\n",
    "    coauthors.append(cur_paper_auth)"
   ]
  },
  {
   "cell_type": "code",
   "execution_count": 6,
   "metadata": {
    "collapsed": true
   },
   "outputs": [],
   "source": [
    "cse_prof = [\n",
    "        'Ravindran, Balaraman',\n",
    "        'Chandrasekaran, Pandu Rangan',\n",
    "        'N. S., Narayanaswamy',\n",
    "        'Das, Sukhendu',\n",
    "        'Mittal, Anurag',\n",
    "        'Mutyam, Madhu',\n",
    "        'Madhu, Mutyam',\n",
    "        'Kumar, P. Sreenivasa',\n",
    "        'Sreenivasa Kumar, P.',\n",
    "        'D, Janakiram',\n",
    "        'Dharanipragada, Janakiram',\n",
    "        'Kamakoti, V.',\n",
    "        'V, Kamakoti',\n",
    "        'C, Siva Ram Murthy',\n",
    "        'Khemani, Deepak',\n",
    "        'Chakraborti, Sutanu',\n",
    "        'C. Chandra, Sekhar',\n",
    "        'A. Gonsalves, Timothy',\n",
    "        'A. Murthy, Hema',\n",
    "    ]"
   ]
  },
  {
   "cell_type": "code",
   "execution_count": 7,
   "metadata": {
    "collapsed": true
   },
   "outputs": [],
   "source": [
    "prof_id = {}\n",
    "prof_id['Ravindran, Balaraman'] = 1\n",
    "prof_id['Chandrasekaran, Pandu Rangan'] = 2\n",
    "prof_id['N. S., Narayanaswamy'] = 3\n",
    "prof_id['Das, Sukhendu'] = 4\n",
    "prof_id['Mittal, Anurag'] = 5\n",
    "prof_id['Mutyam, Madhu'] = 6\n",
    "prof_id['Madhu, Mutyam'] = 6\n",
    "prof_id['Kumar, P. Sreenivasa'] = 7\n",
    "prof_id['Sreenivasa Kumar, P.'] = 7\n",
    "prof_id['D, Janakiram'] = 8\n",
    "prof_id['Dharanipragada, Janakiram'] = 8\n",
    "prof_id['Kamakoti, V.'] = 9\n",
    "prof_id['V, Kamakoti'] = 9\n",
    "prof_id['C, Siva Ram Murthy'] = 10\n",
    "prof_id['Khemani, Deepak'] = 11\n",
    "prof_id['Chakraborti, Sutanu'] = 12\n",
    "prof_id['C. Chandra, Sekhar'] = 13\n",
    "prof_id['A. Murthy, Hema'] = 14\n",
    "prof_id['A. Gonsalves, Timothy'] = 15"
   ]
  },
  {
   "cell_type": "code",
   "execution_count": 8,
   "metadata": {
    "collapsed": true
   },
   "outputs": [],
   "source": [
    "#Store as adjacency Matrix\n",
    "adj_mat = np.zeros((16,16))\n",
    "\n",
    "#Add element to adjacency matrix\n",
    "def add_ele(x,y):\n",
    "    ind1 = prof_id[x]\n",
    "    ind2 = prof_id[y]\n",
    "    adj_mat[ind1][ind2] = adj_mat[ind1][ind2]+1\n",
    "    \n",
    "#Check if x is a prof\n",
    "def check_exists(x):\n",
    "    if x in cse_prof:\n",
    "        return True\n",
    "    else:\n",
    "        return False"
   ]
  },
  {
   "cell_type": "code",
   "execution_count": 9,
   "metadata": {
    "collapsed": false
   },
   "outputs": [],
   "source": [
    "#Populate Adj Matrix\n",
    "for l in coauthors:\n",
    "    for a1 in l:\n",
    "        for a2 in l:\n",
    "            if(check_exists(a1) and check_exists(a2) and a1!=a2):\n",
    "                add_ele(a1,a2)"
   ]
  },
  {
   "cell_type": "code",
   "execution_count": 10,
   "metadata": {
    "collapsed": false
   },
   "outputs": [
    {
     "data": {
      "text/plain": [
       "<matplotlib.axes._subplots.AxesSubplot at 0x7f37f31846a0>"
      ]
     },
     "execution_count": 10,
     "metadata": {},
     "output_type": "execute_result"
    },
    {
     "data": {
      "image/png": "[encoded data removed]",
      "text/plain": [
       "<matplotlib.figure.Figure at 0x7f380184add8>"
      ]
     },
     "metadata": {},
     "output_type": "display_data"
    }
   ],
   "source": [
    "#Visualize Adj Matrix\n",
    "sns.set(style=\"white\")\n",
    "cmap = sns.diverging_palette(220, 10, as_cmap=True)\n",
    "\n",
    "f, ax = plt.subplots(figsize=(11, 9))\n",
    "\n",
    "sns.heatmap(adj_mat, cmap=cmap, vmax=4,\n",
    "            square=True, xticklabels=5, yticklabels=5,\n",
    "            linewidths=.5, ax=ax)"
   ]
  }
 ],
 "metadata": {
  "kernelspec": {
   "display_name": "Python 3",
   "language": "python",
   "name": "python3"
  },
  "language_info": {
   "codemirror_mode": {
    "name": "ipython",
    "version": 3
   },
   "file_extension": ".py",
   "mimetype": "text/x-python",
   "name": "python",
   "nbconvert_exporter": "python",
   "pygments_lexer": "ipython3",
   "version": "3.5.2"
  }
 },
 "nbformat": 4,
 "nbformat_minor": 2
}
